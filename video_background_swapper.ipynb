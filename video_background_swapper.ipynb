{
 "cells": [
  {
   "cell_type": "markdown",
   "metadata": {},
   "source": [
    "## Video Background Swapper\n",
    "\n",
    "### Objetivo\n",
    "\n",
    "Utilizando as mesmas técnicas utilizadas na troca de _background_ de imagens, deve-se criar um algoritmo que possibilite a detecção e troca de _backgrounds_ de vídeos que utilizam _chroma key_, ou seja, que possuem _background_ verde. Portanto, o algoritmo final utiliza a função `swap_image_background` do [algoritmo de troca de _backgrounds_ de imagens](./image_background_swapper.py).\n",
    "\n",
    "### Explicação Geral\n",
    "\n",
    "O algoritmo para troca de _background_ de vídeos foi desenvolvido utilizando as seguintes bibliotecas:\n",
    "\n",
    "- A `cv2` (OpenCV) foi utilizado para ler o vídeo de entrada, processar cada frame (substituindo o _background_) e escrever o vídeo de saída (sem áudio);\n",
    "- A `os` foi utilizado para manipular o vídeo de saída durante a etapa de inserção de áudio, tornando o vídeo de saída apenas em um arquivo temporário e logo após removendo-o, após o novo vídeo de saída estar pronto;\n",
    "- A `sys` foi utilizada para ler os parâmetros inseridos na linha de comando, sendo eles o nome do vídeo de entrada e a imagem que contém o novo _background_;\n",
    "- A função `swap_image_background` foi utilizada para trocar o _background_ verde de cada frame do vídeo, conforme ele foi lido;\n",
    "- A `moviepy.editor` foi utilizada para ler o vídeo de saída (sem áudio) e criar um novo vídeo de saída com o áudio do vídeo de entrada original.\n",
    "\n",
    "O procedimento é bem simples:\n",
    "\n",
    "Como a função `swap_image_background` já faz todo o processamento de uma imagem, removendo o _background_ verde, acaba sendo necessário apenas ler o vídeo de entrada e processar cada frame (que nada mais são do que imagens) para realizar a remoção do _background_ indesejado e inserção do novo _background_. Após isso o vídeo de saída é salvo e manipulado para inserção do áudio.\n",
    "\n",
    "### Desenvolvimento do Algoritmo\n",
    "\n",
    "Primeiro, é necessário importar as bibliotecas que serão utilizadas. A biblioteca `sys` não foi importada, já que não será lido nada da linha de comando neste _notebook_."
   ]
  },
  {
   "cell_type": "code",
   "execution_count": 27,
   "metadata": {},
   "outputs": [],
   "source": [
    "import cv2\n",
    "import os\n",
    "from image_background_swapper import INPUT_DIR, OUTPUT_DIR, swap_image_background\n",
    "from moviepy.editor import *"
   ]
  },
  {
   "cell_type": "markdown",
   "metadata": {},
   "source": [
    "O vídeo de entrada e o novo _background_ para este são obtidos."
   ]
  },
  {
   "cell_type": "code",
   "execution_count": 28,
   "metadata": {},
   "outputs": [],
   "source": [
    "INPUT_VIDEO_NAME = 'uau.mp4'\n",
    "BACKGROUND_IMG_NAME = 'background1.jpg'\n",
    "\n",
    "input_video = cv2.VideoCapture(INPUT_DIR + INPUT_VIDEO_NAME)\n",
    "background_img = cv2.imread(INPUT_DIR + BACKGROUND_IMG_NAME)"
   ]
  },
  {
   "cell_type": "markdown",
   "metadata": {},
   "source": [
    "Algumas informações necessárias são lidas a partir do vídeo de entrada, como as dimensões (largura e altura) e a taxa de quadros."
   ]
  },
  {
   "cell_type": "code",
   "execution_count": 29,
   "metadata": {},
   "outputs": [],
   "source": [
    "frame_width = int(input_video.get(3))\n",
    "frame_height = int(input_video.get(4))\n",
    "frame_rate = int(input_video.get(cv2.CAP_PROP_FPS))"
   ]
  },
  {
   "cell_type": "markdown",
   "metadata": {},
   "source": [
    "O vídeo de saída já é criado, pois ele deverá estar aberto durante o processamento do vídeo de entrada, para já ir gravando cada frame (quadro) atualizado."
   ]
  },
  {
   "cell_type": "code",
   "execution_count": 30,
   "metadata": {},
   "outputs": [
    {
     "name": "stderr",
     "output_type": "stream",
     "text": [
      "OpenCV: FFMPEG: tag 0x47504a4d/'MJPG' is not supported with codec id 7 and format 'mp4 / MP4 (MPEG-4 Part 14)'\n",
      "OpenCV: FFMPEG: fallback to use tag 0x7634706d/'mp4v'\n"
     ]
    }
   ],
   "source": [
    "output_video_path = OUTPUT_DIR + INPUT_VIDEO_NAME\n",
    "\n",
    "output_video = cv2.VideoWriter(\n",
    "  output_video_path,\n",
    "  cv2.VideoWriter_fourcc('M', 'J', 'P', 'G'),\n",
    "  frame_rate,\n",
    "  (frame_width,frame_height)\n",
    ")"
   ]
  },
  {
   "cell_type": "markdown",
   "metadata": {},
   "source": [
    "O vídeo de entrada é lido frame a frame, sendo que cada frame passa pela operação de troca de _background_ através da função _swap_image_background_. Além disso, em cada iteração do _loop_ o frame atualizado com o novo _background_ é escrito no vídeo de saída."
   ]
  },
  {
   "cell_type": "code",
   "execution_count": 31,
   "metadata": {},
   "outputs": [],
   "source": [
    "while(input_video.isOpened()):\n",
    "  ret, img = input_video.read()\n",
    "\n",
    "  if not ret:\n",
    "    break\n",
    "\n",
    "  result_img = swap_image_background(img, background_img)\n",
    "  output_video.write(result_img)"
   ]
  },
  {
   "cell_type": "markdown",
   "metadata": {},
   "source": [
    "Após finalizar as operações de vídeo com o OpenCV, os arquivos são liberados."
   ]
  },
  {
   "cell_type": "code",
   "execution_count": 32,
   "metadata": {},
   "outputs": [],
   "source": [
    "input_video.release()\n",
    "output_video.release()"
   ]
  },
  {
   "cell_type": "markdown",
   "metadata": {},
   "source": [
    "O vídeo de saída salvo nas operações acima não contém o áudio do vídeo original. O motivo para isso é que o OpenCV é focado no manipulamento de imagens, e não possui funcionalidades para o manipulamento de áudio. Para que o vídeo de saída tenha o áudio original, é necessário inserir esse áudio através de outra biblioteca. É aí que entra o MoviePy, biblioteca que permite manipular o áudio e vídeo de um arquivo.\n",
    "\n",
    "Portanto, o vídeo de saída precisa ser atualizado, e devido a isso, ele é renomeado para um arquivo temporário, já que o verdadeiro vídeo de saída (com o áudio) será escrito ainda."
   ]
  },
  {
   "cell_type": "code",
   "execution_count": 33,
   "metadata": {},
   "outputs": [],
   "source": [
    "temp_output_video_path = OUTPUT_DIR + 'temp_' + INPUT_VIDEO_NAME\n",
    "\n",
    "os.rename(output_video_path, temp_output_video_path)"
   ]
  },
  {
   "cell_type": "markdown",
   "metadata": {},
   "source": [
    "O clip de áudio é optido a partir do vídeo de entrada original e atribuído ao vídeo de saída. O vídeo de saída é escrito novamente, porém dessa vez contendo o áudio."
   ]
  },
  {
   "cell_type": "code",
   "execution_count": 34,
   "metadata": {},
   "outputs": [
    {
     "name": "stdout",
     "output_type": "stream",
     "text": [
      "Moviepy - Building video output/uau.mp4.\n",
      "MoviePy - Writing audio in uauTEMP_MPY_wvf_snd.mp3\n"
     ]
    },
    {
     "name": "stderr",
     "output_type": "stream",
     "text": [
      "                                                                    \r"
     ]
    },
    {
     "name": "stdout",
     "output_type": "stream",
     "text": [
      "MoviePy - Done.\n",
      "Moviepy - Writing video output/uau.mp4\n",
      "\n"
     ]
    },
    {
     "name": "stderr",
     "output_type": "stream",
     "text": [
      "                                                               \r"
     ]
    },
    {
     "name": "stdout",
     "output_type": "stream",
     "text": [
      "Moviepy - Done !\n",
      "Moviepy - video ready output/uau.mp4\n"
     ]
    }
   ],
   "source": [
    "audio_from_input_video = AudioFileClip(INPUT_DIR + INPUT_VIDEO_NAME)\n",
    "\n",
    "output_video = VideoFileClip(temp_output_video_path)\n",
    "output_video.audio = audio_from_input_video\n",
    "output_video.write_videofile(output_video_path)"
   ]
  },
  {
   "cell_type": "markdown",
   "metadata": {},
   "source": [
    "Por fim, o vídeo de saída temporário é apagado, já que o vídeo de saída com áudio já foi salvo com sucesso."
   ]
  },
  {
   "cell_type": "code",
   "execution_count": 35,
   "metadata": {},
   "outputs": [],
   "source": [
    "os.remove(temp_output_video_path)"
   ]
  }
 ],
 "metadata": {
  "interpreter": {
   "hash": "767d51c1340bd893661ea55ea3124f6de3c7a262a8b4abca0554b478b1e2ff90"
  },
  "kernelspec": {
   "display_name": "Python 3.10.3 64-bit",
   "language": "python",
   "name": "python3"
  },
  "language_info": {
   "codemirror_mode": {
    "name": "ipython",
    "version": 3
   },
   "file_extension": ".py",
   "mimetype": "text/x-python",
   "name": "python",
   "nbconvert_exporter": "python",
   "pygments_lexer": "ipython3",
   "version": "3.10.4"
  },
  "orig_nbformat": 4
 },
 "nbformat": 4,
 "nbformat_minor": 2
}
